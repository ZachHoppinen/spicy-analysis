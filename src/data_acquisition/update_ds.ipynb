{
 "cells": [
  {
   "cell_type": "code",
   "execution_count": 1,
   "metadata": {},
   "outputs": [],
   "source": [
    "from pathlib import Path\n",
    "import numpy as np\n",
    "import pandas as pd\n",
    "import xarray as xr\n",
    "from spicy_snow.retrieval import retrieval_from_parameters\n",
    "from spicy_snow.processing.s1_preprocessing import s1_dB_to_power"
   ]
  },
  {
   "cell_type": "code",
   "execution_count": 4,
   "metadata": {},
   "outputs": [],
   "source": [
    "infp = Path('~/scratch/spicy/SnowEx-Data').expanduser()\n",
    "outfp = Path('~/spicy-snow/SnowEx-Data-Hans').expanduser()\n",
    "outfp.mkdir(exist_ok=True)\n",
    "\n",
    "# param_stats = xr.open_dataset('/bsuhome/zacharykeskinen/scratch/spicy/param_npys/param_stats.nc')"
   ]
  },
  {
   "cell_type": "code",
   "execution_count": 9,
   "metadata": {},
   "outputs": [],
   "source": [
    "# a = 2.5\n",
    "# b = 0.2\n",
    "# c = 0.55\n",
    "\n",
    "a, b, c = [2, 0.5, 0.44]\n",
    "\n",
    "for fp in infp.glob('*.nc'):\n",
    "    # if fp.stem != 'Banner_2021-03-15':\n",
    "    #     continue\n",
    "    # sub_stats = param_stats.sel(location = fp.stem)\n",
    "    # c_best = sub_stats.sel(C = sub_stats['mae'].idxmin('C'))\n",
    "    # a_c_best = c_best.sel(A = c_best['pearsonr'].idxmax('A'))\n",
    "    # best = a_c_best.sel(B = a_c_best['pearsonr'].idxmax('B'))\n",
    "    # a, b, c = best.A.mean(), best.B.mean(), best.C.mean()\n",
    "    \n",
    "    ds = xr.open_dataset(fp)\n",
    "    new_ds = retrieval_from_parameters(ds, A = a, B = b, C = c, freezing_snow_thresh = 1)\n",
    "    # new_ds = add_confidence_angle(new_ds)\n",
    "    if fp.stem == 'Banner_2021-03-15':\n",
    "        new_ds = new_ds.isel(time = slice(12, None))\n",
    "    new_ds.attrs['param_A'] = a\n",
    "    new_ds.attrs['param_B'] = b\n",
    "    new_ds.attrs['param_C'] = c\n",
    "    new_ds['inc'] = new_ds.sel(band = 'inc')['s1'].mean(dim = 'time')\n",
    "    new_ds[['snow_depth', 'wet_snow', 'ims', 'fcf', 'lidar-sd', 'lidar-vh', 'lidar-dem', 'inc']].to_netcdf(outfp.joinpath(fp.name))\n",
    "    # new_ds.time.to_dataframe().to_csv(outfp.joinpath('times', fp.stem + '.csv'))"
   ]
  },
  {
   "cell_type": "code",
   "execution_count": null,
   "metadata": {},
   "outputs": [],
   "source": []
  }
 ],
 "metadata": {
  "kernelspec": {
   "display_name": "spicy",
   "language": "python",
   "name": "python3"
  },
  "language_info": {
   "codemirror_mode": {
    "name": "ipython",
    "version": 3
   },
   "file_extension": ".py",
   "mimetype": "text/x-python",
   "name": "python",
   "nbconvert_exporter": "python",
   "pygments_lexer": "ipython3",
   "version": "3.11.0"
  },
  "orig_nbformat": 4
 },
 "nbformat": 4,
 "nbformat_minor": 2
}
