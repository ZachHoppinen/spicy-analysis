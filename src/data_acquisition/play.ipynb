{
 "cells": [
  {
   "cell_type": "code",
   "execution_count": 1,
   "metadata": {},
   "outputs": [],
   "source": [
    "# FOR GENERATING THE PARAMETER DATASETS! #\n",
    "\n",
    "import numpy as np\n",
    "import pandas as pd\n",
    "import xarray as xr\n",
    "import matplotlib.pyplot as plt\n",
    "from shapely import wkt\n",
    "from shapely.geometry import box\n",
    "from pathlib import Path\n",
    "from datetime import datetime\n",
    "from scipy.stats import pearsonr\n",
    "from sklearn.metrics import mean_squared_error\n",
    "from tqdm import tqdm\n",
    "\n",
    "from spicy_snow.processing.snow_index import calc_delta_cross_ratio, calc_delta_gamma, \\\n",
    "    clip_delta_gamma_outlier, calc_snow_index, calc_snow_index_to_snow_depth\n",
    "from spicy_snow.processing.wet_snow import id_newly_wet_snow, id_wet_negative_si, \\\n",
    "    id_newly_frozen_snow, flag_wet_snow\n",
    "\n",
    "# Create parameter space\n",
    "A = np.round(np.arange(1, 3.1, 0.5), 2)\n",
    "B = np.round(np.arange(0, 1.01, 0.1), 2)\n",
    "C = np.round(np.arange(0, 1.001, 0.01), 2)\n",
    "\n",
    "files = list(Path('/bsuhome/zacharykeskinen/spicy-snow/Lidar_s1_stacks/').glob('*.nc'))\n",
    "\n",
    "files = [f for f in files if '.fix.nc' in f.name]\n",
    "\n",
    "param_dir = Path('~/scratch/test/param_npys').expanduser()\n",
    "\n",
    "param_dir.mkdir(exist_ok = True)"
   ]
  },
  {
   "cell_type": "code",
   "execution_count": 2,
   "metadata": {},
   "outputs": [],
   "source": [
    "import time\n",
    "from multiprocessing import Pool\n",
    "from functools import partial\n",
    "\n",
    "\n",
    "def make_param_files(data_directory, idx, closest_ts, B, C, dataset, a):\n",
    "    ds = dataset\n",
    "\n",
    "    ds = calc_delta_cross_ratio(ds, A = a)\n",
    "    for b in B:\n",
    "        ds = calc_delta_gamma(ds, B = b, inplace=False)\n",
    "        ds = clip_delta_gamma_outlier(ds)\n",
    "        ds = calc_snow_index(ds)\n",
    "        ds = id_newly_wet_snow(ds)\n",
    "        ds = id_wet_negative_si(ds)\n",
    "        ds = id_newly_frozen_snow(ds)\n",
    "        ds = flag_wet_snow(ds)\n",
    "        for c in C:\n",
    "            ds = calc_snow_index_to_snow_depth(ds, C = c)\n",
    "\n",
    "            sub = ds.sel(time = closest_ts)\n",
    "            spicy_sd = sub['lidar-sd'].values.ravel()[idx]\n",
    "            # print(f'Saving {a}_{b}_{c}.npy')\n",
    "            np.save(data_directory.joinpath(f'{a}_{b}_{c}.npy'), spicy_sd)"
   ]
  },
  {
   "cell_type": "code",
   "execution_count": 24,
   "metadata": {},
   "outputs": [
    {
     "name": "stdout",
     "output_type": "stream",
     "text": [
      "2023-08-30 14:58:26.362467  -- starting Frasier_2020-02-11\n"
     ]
    },
    {
     "name": "stdout",
     "output_type": "stream",
     "text": [
      "3784\n",
      "2023-08-30 14:59:13.253840  -- starting Cameron_2021-03-19\n",
      "2249\n"
     ]
    },
    {
     "ename": "KeyboardInterrupt",
     "evalue": "",
     "output_type": "error",
     "traceback": [
      "\u001b[0;31m---------------------------------------------------------------------------\u001b[0m",
      "\u001b[0;31mKeyboardInterrupt\u001b[0m                         Traceback (most recent call last)",
      "Cell \u001b[0;32mIn[24], line 39\u001b[0m\n\u001b[1;32m     34\u001b[0m \u001b[39m# A_dses = []\u001b[39;00m\n\u001b[1;32m     35\u001b[0m \u001b[39m# for a in tqdm(A):\u001b[39;00m\n\u001b[1;32m     36\u001b[0m     \u001b[39m# A_dses.append(calc_delta_cross_ratio(dataset, A = a))\u001b[39;00m\n\u001b[1;32m     38\u001b[0m \u001b[39mprint\u001b[39m(np\u001b[39m.\u001b[39msum(idx))\n\u001b[0;32m---> 39\u001b[0m pool\u001b[39m.\u001b[39;49mmap(partial(make_param_files, ds_dir, idx, closest_ts, B, C, dataset), A)\n",
      "File \u001b[0;32m~/miniconda3/envs/spicy/lib/python3.11/multiprocessing/pool.py:367\u001b[0m, in \u001b[0;36mPool.map\u001b[0;34m(self, func, iterable, chunksize)\u001b[0m\n\u001b[1;32m    362\u001b[0m \u001b[39mdef\u001b[39;00m \u001b[39mmap\u001b[39m(\u001b[39mself\u001b[39m, func, iterable, chunksize\u001b[39m=\u001b[39m\u001b[39mNone\u001b[39;00m):\n\u001b[1;32m    363\u001b[0m \u001b[39m    \u001b[39m\u001b[39m'''\u001b[39;00m\n\u001b[1;32m    364\u001b[0m \u001b[39m    Apply `func` to each element in `iterable`, collecting the results\u001b[39;00m\n\u001b[1;32m    365\u001b[0m \u001b[39m    in a list that is returned.\u001b[39;00m\n\u001b[1;32m    366\u001b[0m \u001b[39m    '''\u001b[39;00m\n\u001b[0;32m--> 367\u001b[0m     \u001b[39mreturn\u001b[39;00m \u001b[39mself\u001b[39;49m\u001b[39m.\u001b[39;49m_map_async(func, iterable, mapstar, chunksize)\u001b[39m.\u001b[39;49mget()\n",
      "File \u001b[0;32m~/miniconda3/envs/spicy/lib/python3.11/multiprocessing/pool.py:768\u001b[0m, in \u001b[0;36mApplyResult.get\u001b[0;34m(self, timeout)\u001b[0m\n\u001b[1;32m    767\u001b[0m \u001b[39mdef\u001b[39;00m \u001b[39mget\u001b[39m(\u001b[39mself\u001b[39m, timeout\u001b[39m=\u001b[39m\u001b[39mNone\u001b[39;00m):\n\u001b[0;32m--> 768\u001b[0m     \u001b[39mself\u001b[39;49m\u001b[39m.\u001b[39;49mwait(timeout)\n\u001b[1;32m    769\u001b[0m     \u001b[39mif\u001b[39;00m \u001b[39mnot\u001b[39;00m \u001b[39mself\u001b[39m\u001b[39m.\u001b[39mready():\n\u001b[1;32m    770\u001b[0m         \u001b[39mraise\u001b[39;00m \u001b[39mTimeoutError\u001b[39;00m\n",
      "File \u001b[0;32m~/miniconda3/envs/spicy/lib/python3.11/multiprocessing/pool.py:765\u001b[0m, in \u001b[0;36mApplyResult.wait\u001b[0;34m(self, timeout)\u001b[0m\n\u001b[1;32m    764\u001b[0m \u001b[39mdef\u001b[39;00m \u001b[39mwait\u001b[39m(\u001b[39mself\u001b[39m, timeout\u001b[39m=\u001b[39m\u001b[39mNone\u001b[39;00m):\n\u001b[0;32m--> 765\u001b[0m     \u001b[39mself\u001b[39;49m\u001b[39m.\u001b[39;49m_event\u001b[39m.\u001b[39;49mwait(timeout)\n",
      "File \u001b[0;32m~/miniconda3/envs/spicy/lib/python3.11/threading.py:622\u001b[0m, in \u001b[0;36mEvent.wait\u001b[0;34m(self, timeout)\u001b[0m\n\u001b[1;32m    620\u001b[0m signaled \u001b[39m=\u001b[39m \u001b[39mself\u001b[39m\u001b[39m.\u001b[39m_flag\n\u001b[1;32m    621\u001b[0m \u001b[39mif\u001b[39;00m \u001b[39mnot\u001b[39;00m signaled:\n\u001b[0;32m--> 622\u001b[0m     signaled \u001b[39m=\u001b[39m \u001b[39mself\u001b[39;49m\u001b[39m.\u001b[39;49m_cond\u001b[39m.\u001b[39;49mwait(timeout)\n\u001b[1;32m    623\u001b[0m \u001b[39mreturn\u001b[39;00m signaled\n",
      "File \u001b[0;32m~/miniconda3/envs/spicy/lib/python3.11/threading.py:320\u001b[0m, in \u001b[0;36mCondition.wait\u001b[0;34m(self, timeout)\u001b[0m\n\u001b[1;32m    318\u001b[0m \u001b[39mtry\u001b[39;00m:    \u001b[39m# restore state no matter what (e.g., KeyboardInterrupt)\u001b[39;00m\n\u001b[1;32m    319\u001b[0m     \u001b[39mif\u001b[39;00m timeout \u001b[39mis\u001b[39;00m \u001b[39mNone\u001b[39;00m:\n\u001b[0;32m--> 320\u001b[0m         waiter\u001b[39m.\u001b[39;49macquire()\n\u001b[1;32m    321\u001b[0m         gotit \u001b[39m=\u001b[39m \u001b[39mTrue\u001b[39;00m\n\u001b[1;32m    322\u001b[0m     \u001b[39melse\u001b[39;00m:\n",
      "\u001b[0;31mKeyboardInterrupt\u001b[0m: "
     ]
    }
   ],
   "source": [
    "for f in files:\n",
    "    # get dataset\n",
    "    ds_name = f.name.split('stacks/')[-1].split('.')[0]\n",
    "    print(datetime.now(), f' -- starting {ds_name}')\n",
    "    ds_ = xr.open_dataset(f).load()\n",
    "    dataset = ds_[['s1','deltaVV','ims','fcf', 'lidar-sd', 'dem', 'snow_depth']]\n",
    "\n",
    "    # find closest timestep to lidar\n",
    "    td = abs(pd.to_datetime(dataset.time) - pd.to_datetime(dataset.attrs['lidar-flight-time']))\n",
    "    closest_ts = dataset.time[np.argmin(td)]\n",
    "\n",
    "    if 'Frasier_2020-02-11' in f.name:\n",
    "        closest_ts = '2020-02-16T13:09:43.000000000'\n",
    "\n",
    "    ds_dir = param_dir.joinpath(ds_name)\n",
    "    \n",
    "    ds_dir.mkdir(exist_ok = True)\n",
    "\n",
    "    trees = dataset['fcf'].values.ravel()\n",
    "    elev = dataset['dem'].values.ravel()\n",
    "    lidar = dataset['lidar-sd'].values.ravel()\n",
    "    spicy_sd = dataset['snow_depth'].sel(time = closest_ts).values.ravel()\n",
    "\n",
    "    idx = (~np.isnan(trees)) & (~np.isnan(elev)) & (~np.isnan(lidar)) & (~np.isnan(spicy_sd))\n",
    "\n",
    "    np.save(ds_dir.joinpath(f'lidar.npy'), lidar[idx])\n",
    "    np.save(ds_dir.joinpath(f'trees.npy'), trees[idx])\n",
    "    np.save(ds_dir.joinpath(f'elev.npy'), elev[idx])\n",
    "\n",
    "\n",
    "    # Brute-force processing loop\n",
    "    pool = Pool()\n",
    "\n",
    "    # A_dses = []\n",
    "    # for a in tqdm(A):\n",
    "        # A_dses.append(calc_delta_cross_ratio(dataset, A = a))\n",
    "        \n",
    "    pool.map(partial(make_param_files, ds_dir, idx, closest_ts, B, C, dataset), A)"
   ]
  },
  {
   "cell_type": "code",
   "execution_count": null,
   "metadata": {},
   "outputs": [],
   "source": []
  }
 ],
 "metadata": {
  "kernelspec": {
   "display_name": "spicy",
   "language": "python",
   "name": "python3"
  },
  "language_info": {
   "codemirror_mode": {
    "name": "ipython",
    "version": 3
   },
   "file_extension": ".py",
   "mimetype": "text/x-python",
   "name": "python",
   "nbconvert_exporter": "python",
   "pygments_lexer": "ipython3",
   "version": "3.11.0"
  },
  "orig_nbformat": 4
 },
 "nbformat": 4,
 "nbformat_minor": 2
}
