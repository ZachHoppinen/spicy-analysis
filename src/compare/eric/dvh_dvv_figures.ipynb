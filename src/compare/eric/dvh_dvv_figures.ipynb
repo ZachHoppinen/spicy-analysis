{
 "cells": [
  {
   "cell_type": "code",
   "execution_count": null,
   "metadata": {},
   "outputs": [],
   "source": [
    "from pathlib import Path\n",
    "\n",
    "import numpy as np\n",
    "import pandas as pd\n",
    "import xarray as xr\n",
    "\n",
    "import matplotlib.pyplot as plt\n",
    "\n",
    "from scipy.stats import pearsonr\n",
    "from sklearn.metrics import mean_squared_error, mean_absolute_error\n",
    "\n",
    "from spicy_snow.retrieval import retrieval_from_parameters\n",
    "\n",
    "# import functions for downloading\n",
    "from spicy_snow.download.sentinel1 import s1_img_search, hyp3_pipeline, download_hyp3, combine_s1_images\n",
    "from spicy_snow.download.forest_cover import download_fcf\n",
    "from spicy_snow.download.snow_cover import download_snow_cover\n",
    "\n",
    "# import functions for pre-processing\n",
    "from spicy_snow.processing.s1_preprocessing import merge_partial_s1_images, s1_orbit_averaging,\\\n",
    "s1_clip_outliers, subset_s1_images, ims_water_mask, s1_incidence_angle_masking, merge_s1_subsets\n",
    "\n",
    "# import the functions for snow_index calculation\n",
    "from spicy_snow.processing.snow_index import calc_delta_VV, calc_delta_cross_ratio, \\\n",
    "    calc_delta_gamma, clip_delta_gamma_outlier, calc_snow_index, calc_snow_index_to_snow_depth\n",
    "\n",
    "# import the functions for wet snow flag\n",
    "from spicy_snow.processing.wet_snow import id_newly_frozen_snow, id_newly_wet_snow, \\\n",
    "    id_wet_negative_si, flag_wet_snow\n",
    "\n",
    "# setup root logger\n",
    "from spicy_snow.utils.spicy_logging import setup_logging\n",
    "\n",
    "# fischer z test\n",
    "from causallearn.utils.cit import CIT"
   ]
  },
  {
   "cell_type": "code",
   "execution_count": null,
   "metadata": {},
   "outputs": [],
   "source": [
    "in_dir = Path('~/scratch/spicy/SnowEx-Data/').expanduser().resolve()\n",
    "data_dir = Path('~/scratch/spicy/SnowEx-Data/').expanduser().resolve()\n",
    "dss = {fp.stem: xr.open_dataset(fp) for fp in in_dir.glob('*.nc')}\n",
    "\n",
    "# Create parameter space\n",
    "A = np.round(np.arange(1, 3.1, 0.5), 2)\n",
    "B = np.round(np.arange(0, 2.01, 0.25), 2)\n",
    "C = np.round(np.arange(0.25, 1.001, 0.25), 2)"
   ]
  },
  {
   "cell_type": "code",
   "execution_count": null,
   "metadata": {},
   "outputs": [],
   "source": [
    "ds = dss['Little_Cottonwood_2021-03-18']\n",
    "fig,ax = plt.subplots()\n",
    "ds['s1'].sel(band = 'VV', time = slice('2020-12-01', None)).mean(['x','y']).plot(ax = ax)\n",
    "ds['s1'].sel(band = 'VH', time = slice('2020-12-01', None)).mean(['x','y']).plot(ax = ax)"
   ]
  },
  {
   "cell_type": "code",
   "execution_count": null,
   "metadata": {},
   "outputs": [],
   "source": [
    "ds = dss['Little_Cottonwood_2021-03-18']\n",
    "\n",
    "t = 41\n",
    "fig,axes = plt.subplots(1, 3, figsize = (12, 8))\n",
    "\n",
    "dvh = ds['s1'].sel(band = 'VH').diff(1).isel(time = t)\n",
    "# Normalised [0,1]\n",
    "def nan_ptp(a):\n",
    "    return np.ptp(a[np.isfinite(a)])\n",
    "dvh = dvh.data\n",
    "dvh = (dvh - np.nanmin(dvh))/nan_ptp(dvh)\n",
    "axes[0].imshow(dvh)\n",
    "axes[0].set_title(\"Delta VH\")\n",
    "\n",
    "dvv = ds['s1'].sel(band = 'VV').diff(1).isel(time = t)\n",
    "# Normalised [0,1]\n",
    "\n",
    "dvv = dvv.data\n",
    "dvv = (dvv - np.nanmin(dvv))/nan_ptp(dvv)\n",
    "im = axes[1].imshow(dvv)\n",
    "axes[1].set_title(\"Delta VV\")\n",
    "\n",
    "axes[2].imshow(dvh - dvv)\n",
    "axes[2].set_title('dVH - dVV')\n",
    "plt.suptitle(f'Normalized dVH and dVV backscatter changes\\n Little Cottonwood {str(ds.isel(time = t).time.data).split(\"T\")[0]}')\n",
    "# plt.colorbar(im)\n"
   ]
  }
 ],
 "metadata": {
  "language_info": {
   "name": "python"
  }
 },
 "nbformat": 4,
 "nbformat_minor": 2
}
