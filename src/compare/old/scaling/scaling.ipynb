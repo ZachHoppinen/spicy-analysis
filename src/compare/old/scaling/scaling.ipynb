{
 "cells": [
  {
   "cell_type": "code",
   "execution_count": 19,
   "metadata": {},
   "outputs": [],
   "source": [
    "from pathlib import Path\n",
    "import numpy as np\n",
    "import pandas as pd\n",
    "import xarray as xr\n",
    "import rioxarray as rxa\n",
    "\n",
    "import matplotlib.pyplot as plt"
   ]
  },
  {
   "cell_type": "code",
   "execution_count": 16,
   "metadata": {},
   "outputs": [],
   "source": [
    "from scipy.stats import pearsonr\n",
    "from sklearn.metrics import mean_squared_error, mean_absolute_error\n",
    "\n",
    "def bias(x, y): return np.mean(x - y)\n",
    "\n",
    "def get_stats(x, y):\n",
    "    if type(x) == xr.DataArray: x = x.values.ravel()\n",
    "    if type(y) == xr.DataArray: y = y.values.ravel()\n",
    "    idx = (~np.isnan(x)) & (~np.isnan(y))\n",
    "    x, y = x[idx], y[idx]\n",
    "    r, p = pearsonr(x, y)\n",
    "    b = bias(x, y)\n",
    "    mae = mean_absolute_error(x, y)\n",
    "    rmse = mean_squared_error(x, y, squared = False)\n",
    "    n = len(x)\n",
    "    return r, b, mae, rmse, n"
   ]
  },
  {
   "cell_type": "code",
   "execution_count": 7,
   "metadata": {},
   "outputs": [],
   "source": [
    "data_dir = Path('~/spicy-snow/SnowEx-Data').expanduser()\n",
    "dss = {fp.stem:xr.open_dataset(fp) for fp in list(data_dir.glob('*.nc'))}"
   ]
  },
  {
   "cell_type": "code",
   "execution_count": 24,
   "metadata": {},
   "outputs": [
    {
     "name": "stdout",
     "output_type": "stream",
     "text": [
      "0.07852781182727887 1.1094484136851095 3508\n",
      "0.34593399838825206 0.8293901748624931 129\n",
      "-----\n",
      "0.15540926973408717 0.7093077489076663 6604\n",
      "0.2669001352481223 0.5745167636325517 223\n",
      "-----\n",
      "0.16574099592153635 0.7859482832935086 3567\n",
      "0.28727489459880196 0.5926015810472951 138\n",
      "-----\n",
      "0.330321586526359 0.9414765634178163 16317\n",
      "0.5454760933001146 0.5287613140607289 562\n",
      "-----\n",
      "0.3209910445417788 1.2811694504771576 2646\n",
      "0.5717240589133219 0.7263829572612499 114\n",
      "-----\n",
      "0.32504615751428695 0.9636948982667913 3541\n",
      "0.5797942008118455 0.6417445020023004 132\n",
      "-----\n",
      "0.3077100439782632 1.0381160082187428 16107\n",
      "0.6019496351886001 0.7874109322867167 546\n",
      "-----\n",
      "0.2596788884317362 0.968756660602673 3701\n",
      "0.47984214953200977 0.8311807631767741 128\n",
      "-----\n",
      "0.0686484157773657 1.1559963757264684 2200\n",
      "0.1714374867867996 0.926968115168757 84\n",
      "-----\n"
     ]
    }
   ],
   "source": [
    "for name, ds in dss.items():\n",
    "\n",
    "    if name == 'Frasier_2020-02-11':\n",
    "        im_date = pd.to_datetime('2020-02-16')\n",
    "    else:\n",
    "        im_date = pd.to_datetime(ds.sel(time = ds.attrs['lidar-flight-time'], method = 'nearest').time.values.ravel()[0])\n",
    "\n",
    "    r, b, mae, rmse, n  = get_stats(ds['lidar-sd'], ds['snow_depth'].sel(time = im_date, method = 'nearest'))\n",
    "    print(r, rmse, n)\n",
    "\n",
    "    ds_500 = ds.coarsen(x = 6, y = 6, boundary = 'pad').mean()\n",
    "    r, b, mae, rmse,n  = get_stats(ds_500['lidar-sd'], ds_500['snow_depth'].sel(time = im_date, method = 'nearest'))\n",
    "    print(r, rmse, n)\n",
    "    print('-----')"
   ]
  }
 ],
 "metadata": {
  "kernelspec": {
   "display_name": "spicy",
   "language": "python",
   "name": "python3"
  },
  "language_info": {
   "codemirror_mode": {
    "name": "ipython",
    "version": 3
   },
   "file_extension": ".py",
   "mimetype": "text/x-python",
   "name": "python",
   "nbconvert_exporter": "python",
   "pygments_lexer": "ipython3",
   "version": "3.11.0"
  },
  "orig_nbformat": 4
 },
 "nbformat": 4,
 "nbformat_minor": 2
}
