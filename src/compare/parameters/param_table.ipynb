{
 "cells": [
  {
   "cell_type": "code",
   "execution_count": 1,
   "metadata": {},
   "outputs": [],
   "source": [
    "from pathlib import Path\n",
    "\n",
    "import numpy as np\n",
    "import pandas as pd\n",
    "import xarray as xr\n",
    "\n",
    "import matplotlib.pyplot as plt\n",
    "\n",
    "from scipy.stats import pearsonr\n",
    "from sklearn.metrics import mean_squared_error, mean_absolute_error\n",
    "\n",
    "def bias(x, y): return np.mean(x - y)\n",
    "\n",
    "from spicy_snow.retrieval import retrieval_from_parameters"
   ]
  },
  {
   "cell_type": "code",
   "execution_count": 2,
   "metadata": {},
   "outputs": [],
   "source": [
    "lievens_params = [2, 0.5, 0.44]\n",
    "# wus_params = [2.5, 0.2, 0.55]\n",
    "# wus_v2_params = [1.5, 0.1, 0.59]\n",
    "\n",
    "in_dir = Path('~/spicy-snow/SnowEx-Data/').expanduser().resolve()\n",
    "data_dir = Path('~/scratch/spicy/SnowEx-Data/').expanduser().resolve()\n",
    "\n",
    "# Create parameter space\n",
    "A = np.round(np.arange(1, 3.1, 0.1), 2)\n",
    "B = np.round(np.arange(0, 2.01, 0.1), 2)\n",
    "C = np.round(np.arange(0, 1.001, 0.01), 2)\n",
    "\n",
    "def get_stats(x, y):\n",
    "    if type(x) == xr.DataArray: x = x.values.ravel()\n",
    "    if type(y) == xr.DataArray: y = y.values.ravel()\n",
    "    idx = (~np.isnan(x)) & (~np.isnan(y))\n",
    "    x, y = x[idx], y[idx]\n",
    "    r, p = pearsonr(x, y)\n",
    "    b = bias(x, y)\n",
    "    mae = mean_absolute_error(x, y)\n",
    "    rmse = mean_squared_error(x, y, squared = False)\n",
    "    return r, b, mae, rmse"
   ]
  },
  {
   "cell_type": "code",
   "execution_count": 3,
   "metadata": {},
   "outputs": [
    {
     "name": "stdout",
     "output_type": "stream",
     "text": [
      "<xarray.DataArray 'A' ()>\n",
      "array(1.5)\n",
      "<xarray.DataArray 'B' ()>\n",
      "array(0.)\n",
      "<xarray.DataArray 'C' ()>\n",
      "array(0.27)\n"
     ]
    }
   ],
   "source": [
    "npy_dirs = Path('/bsuhome/zacharykeskinen/scratch/spicy/param_npys')\n",
    "all_res = xr.open_dataset(npy_dirs.joinpath('grouped.nc'))\n",
    "print(all_res['pearsonr'].max(['B', 'C']).idxmax('A'))\n",
    "print(all_res['pearsonr'].max(['C', 'A']).idxmax('B'))\n",
    "print(all_res['mae'].min(['A', 'B']).idxmin('C'))"
   ]
  },
  {
   "cell_type": "code",
   "execution_count": null,
   "metadata": {},
   "outputs": [],
   "source": [
    "res = pd.DataFrame()\n",
    "\n",
    "for fp in in_dir.glob('*.nc'):\n",
    "    ds = xr.open_dataset(fp)\n",
    "\n",
    "    if fp.stem == 'Frasier_2020-02-11':\n",
    "        r, b, mae, rmse = get_stats(ds['lidar-sd'], ds['snow_depth'].sel(time = '2020-02-16'))\n",
    "        im_date = pd.to_datetime('2020-02-16')\n",
    "    else:\n",
    "        r, b, mae, rmse = get_stats(ds['lidar-sd'], ds['snow_depth'].sel(time = ds.attrs['lidar-flight-time'], method = 'nearest'))\n",
    "        im_date = pd.to_datetime(ds.sel(time = ds.attrs['lidar-flight-time'], method = 'nearest').time.values.ravel()[0])\n",
    "\n",
    "    site_name = fp.stem.replace('_', ' ')\n",
    "\n",
    "    for stat in ['A', 'B', 'C']:\n",
    "\n",
    "        \n",
    "\n",
    "        for name, var in zip(['RMSE', 'Pearson R'], [rmse, r]):\n",
    "            res.loc[site_name, name] = var\n",
    "\n",
    "    lievens_ds = retrieval_from_parameters(xr.open_dataset(data_dir.joinpath(fp.name)), A = lievens_params[0], B = lievens_params[1], C = lievens_params[2])\n",
    "\n",
    "    o_r, o_b, o_mae, o_rmse = get_stats(lievens_ds['lidar-sd'], lievens_ds['snow_depth'].sel(time = im_date, method = 'nearest'))\n",
    "\n",
    "    res.loc[site_name, 'Lievens (2022) rmse'] = o_rmse\n",
    "    res.loc[site_name, 'Lievens (2022) Pearson R'] = o_r\n",
    "\n",
    "for name, var in zip(['RMSE', 'bias', 'MAE', 'Pearson R'], [rmse, b, mae, r]):\n",
    "    res.loc['All Sites', name] = all_res.sel(A = 1.5, B = 0.1, C = 0.27)[name.lower().replace(' ', '')]\n",
    "res.loc['All Sites', 'Lievens (2022) rmse'] = all_res.sel(A = lievens_params[0], B = lievens_params[1], C = lievens_params[2])['rmse']\n",
    "res.loc['All Sites', 'Lievens (2022) Pearson R'] = all_res.sel(A = lievens_params[0], B = lievens_params[1], C = lievens_params[2])['pearsonr']"
   ]
  }
 ],
 "metadata": {
  "kernelspec": {
   "display_name": "spicy",
   "language": "python",
   "name": "python3"
  },
  "language_info": {
   "codemirror_mode": {
    "name": "ipython",
    "version": 3
   },
   "file_extension": ".py",
   "mimetype": "text/x-python",
   "name": "python",
   "nbconvert_exporter": "python",
   "pygments_lexer": "ipython3",
   "version": "3.11.0"
  },
  "orig_nbformat": 4
 },
 "nbformat": 4,
 "nbformat_minor": 2
}
