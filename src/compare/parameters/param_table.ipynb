{
 "cells": [
  {
   "cell_type": "code",
   "execution_count": 1,
   "metadata": {},
   "outputs": [],
   "source": [
    "from pathlib import Path\n",
    "import numpy as np\n",
    "import pandas as pd\n",
    "import xarray as xr\n",
    "import matplotlib.pyplot as plt\n",
    "import seaborn as sns"
   ]
  },
  {
   "cell_type": "code",
   "execution_count": 2,
   "metadata": {},
   "outputs": [],
   "source": [
    "param_fp = Path('/bsuhome/zacharykeskinen/scratch/spicy/param_npys')\n",
    "ds = xr.open_dataset(param_fp.joinpath('param_stats.nc'))\n",
    "ds = ds.sel(C = slice(0.01, 1))\n",
    "\n",
    "fig_dir = Path('/bsuhome/zacharykeskinen/spicy-analysis/figures/params')"
   ]
  },
  {
   "cell_type": "code",
   "execution_count": 83,
   "metadata": {},
   "outputs": [],
   "source": [
    "res = pd.DataFrame(index = ds.location, columns = ['A', 'B', 'C', 'rmse', 'bias', 'mae', 'pearsonr', 'rmse improvement', '$\\delta rmse / \\delta A$', '$\\delta rmse / \\delta B$', '$\\delta rmse / \\delta C$'])"
   ]
  },
  {
   "cell_type": "code",
   "execution_count": 84,
   "metadata": {},
   "outputs": [],
   "source": [
    "gp = [2, 0.5, 0.44]\n",
    "\n",
    "for loc, sub in ds.groupby('location'):\n",
    "    sub = sub.mean('iteration')\n",
    "    c_best = sub.sel(C = sub['mae'].idxmin('C'))\n",
    "    a_c_best = c_best.sel(A = c_best['pearsonr'].idxmax('A'))\n",
    "    best = a_c_best.sel(B = a_c_best['pearsonr'].idxmax('B'))\n",
    "    for stat in ['A', 'B', 'C']:\n",
    "        res.loc[loc, stat] = best[stat].values.ravel()[0]\n",
    "\n",
    "        if stat == 'A':\n",
    "            c_best = sub.sel(C = sub['mae'].idxmin('C'))\n",
    "            sub_best = c_best.sel(B = c_best['pearsonr'].idxmax('B'))\n",
    "        if stat == 'B':\n",
    "            c_best = sub.sel(C = sub['mae'].idxmin('C'))\n",
    "            sub_best = c_best.sel(A = c_best['pearsonr'].idxmax('A'))\n",
    "        if stat == 'C':\n",
    "            a_best = sub.sel(A = c_best['pearsonr'].idxmax('A'))\n",
    "            sub_best = a_best.sel(B = a_best['pearsonr'].idxmax('B'))\n",
    "\n",
    "        d_stat = sub_best['rmse'].differentiate(stat).mean()\n",
    "        res.loc[loc, f'$\\delta rmse / \\delta {stat}$'] = d_stat.values.ravel()[0]\n",
    "    \n",
    "    for var in best.data_vars:\n",
    "        res.loc[loc, var] = best[var].values.ravel()[0]\n",
    "\n",
    "    rmse_improve = best['rmse'] - sub.sel(A = gp[0], B = gp[1], C = gp[2])['rmse']\n",
    "    res.loc[loc, 'rmse improvement'] = rmse_improve.values.ravel()[0]"
   ]
  },
  {
   "cell_type": "code",
   "execution_count": 85,
   "metadata": {},
   "outputs": [],
   "source": [
    "res = res.reset_index(names = 'location')"
   ]
  },
  {
   "cell_type": "code",
   "execution_count": 86,
   "metadata": {},
   "outputs": [],
   "source": [
    "for col in res.columns:\n",
    "    if col in ['A', 'B', 'C']:\n",
    "        continue\n",
    "    try:\n",
    "        res[col] = res[col].apply(lambda r: f'{r:.3f}')\n",
    "    except:\n",
    "        pass"
   ]
  },
  {
   "cell_type": "code",
   "execution_count": 91,
   "metadata": {},
   "outputs": [],
   "source": [
    "res['location'] = res['location'].apply(lambda x: x.split('-')[0].replace('_',' '))"
   ]
  },
  {
   "cell_type": "code",
   "execution_count": 88,
   "metadata": {},
   "outputs": [],
   "source": [
    "res.to_csv('/bsuhome/zacharykeskinen/spicy-analysis/results/params/param_site_summary.csv')"
   ]
  }
 ],
 "metadata": {
  "kernelspec": {
   "display_name": "spicy",
   "language": "python",
   "name": "python3"
  },
  "language_info": {
   "codemirror_mode": {
    "name": "ipython",
    "version": 3
   },
   "file_extension": ".py",
   "mimetype": "text/x-python",
   "name": "python",
   "nbconvert_exporter": "python",
   "pygments_lexer": "ipython3",
   "version": "3.11.0"
  },
  "orig_nbformat": 4
 },
 "nbformat": 4,
 "nbformat_minor": 2
}
