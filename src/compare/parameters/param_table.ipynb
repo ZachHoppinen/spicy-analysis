{
 "cells": [
  {
   "cell_type": "code",
   "execution_count": 1,
   "metadata": {},
   "outputs": [],
   "source": [
    "from pathlib import Path\n",
    "import numpy as np\n",
    "import pandas as pd\n",
    "import xarray as xr\n",
    "import matplotlib.pyplot as plt\n",
    "import seaborn as sns"
   ]
  },
  {
   "cell_type": "code",
   "execution_count": 2,
   "metadata": {},
   "outputs": [],
   "source": [
    "param_fp = Path('/bsuhome/zacharykeskinen/scratch/spicy/param_npys')\n",
    "ds = xr.open_dataset(param_fp.joinpath('param_stats.nc'))\n",
    "ds = ds.sel(C = slice(0.01, 1))\n",
    "\n",
    "fig_dir = Path('/bsuhome/zacharykeskinen/spicy-analysis/figures/params')"
   ]
  },
  {
   "cell_type": "code",
   "execution_count": 3,
   "metadata": {},
   "outputs": [],
   "source": [
    "res = pd.DataFrame(index = ds.location, columns = ['A', 'B', 'C', 'rmse', 'bias', 'mae', 'pearsonr', 'rmse improvement', '$\\delta rmse / \\delta A$', '$\\delta rmse / \\delta B$', '$\\delta rmse / \\delta C$'])"
   ]
  },
  {
   "cell_type": "code",
   "execution_count": 4,
   "metadata": {},
   "outputs": [],
   "source": [
    "gp = [2, 0.5, 0.44]\n",
    "\n",
    "for loc, sub in ds.groupby('location'):\n",
    "    sub = sub.mean('iteration')\n",
    "    c_best = sub.sel(C = sub['mae'].idxmin('C'))\n",
    "    a_c_best = c_best.sel(A = c_best['pearsonr'].idxmax('A'))\n",
    "    best = a_c_best.sel(B = a_c_best['pearsonr'].idxmax('B'))\n",
    "    for stat in ['A', 'B', 'C']:\n",
    "        res.loc[loc, stat] = best[stat].values.ravel()[0]\n",
    "\n",
    "        if stat == 'A':\n",
    "            c_best = sub.sel(C = sub['mae'].idxmin('C'))\n",
    "            sub_best = c_best.sel(B = c_best['pearsonr'].idxmax('B'))\n",
    "        if stat == 'B':\n",
    "            c_best = sub.sel(C = sub['mae'].idxmin('C'))\n",
    "            sub_best = c_best.sel(A = c_best['pearsonr'].idxmax('A'))\n",
    "        if stat == 'C':\n",
    "            a_best = sub.sel(A = c_best['pearsonr'].idxmax('A'))\n",
    "            sub_best = a_best.sel(B = a_best['pearsonr'].idxmax('B'))\n",
    "\n",
    "        d_stat = sub_best['rmse'].differentiate(stat).mean()\n",
    "        res.loc[loc, f'$\\delta rmse / \\delta {stat}$'] = d_stat.values.ravel()[0]\n",
    "    \n",
    "    for var in best.data_vars:\n",
    "        res.loc[loc, var] = best[var].values.ravel()[0]\n",
    "\n",
    "    rmse_improve = best['rmse'] - sub.sel(A = gp[0], B = gp[1], C = gp[2])['rmse']\n",
    "    res.loc[loc, 'rmse improvement'] = rmse_improve.values.ravel()[0]"
   ]
  },
  {
   "cell_type": "code",
   "execution_count": 5,
   "metadata": {},
   "outputs": [],
   "source": [
    "res = res.reset_index(names = 'location')"
   ]
  },
  {
   "cell_type": "code",
   "execution_count": 6,
   "metadata": {},
   "outputs": [],
   "source": [
    "for col in res.columns:\n",
    "    if col in ['A', 'B', 'C']:\n",
    "        continue\n",
    "    try:\n",
    "        res[col] = res[col].apply(lambda r: f'{r:.3f}')\n",
    "    except:\n",
    "        pass"
   ]
  },
  {
   "cell_type": "code",
   "execution_count": 7,
   "metadata": {},
   "outputs": [],
   "source": [
    "res['location'] = res['location'].apply(lambda x: x.split('-')[0].replace('_',' '))"
   ]
  },
  {
   "cell_type": "code",
   "execution_count": 11,
   "metadata": {},
   "outputs": [],
   "source": [
    "for col in res.columns:\n",
    "    try:\n",
    "        res[col] = res[col].astype(float)\n",
    "    except:\n",
    "        pass"
   ]
  },
  {
   "cell_type": "code",
   "execution_count": 14,
   "metadata": {},
   "outputs": [
    {
     "name": "stderr",
     "output_type": "stream",
     "text": [
      "/tmp/ipykernel_22653/501549738.py:1: FutureWarning: The default value of numeric_only in DataFrame.mean is deprecated. In a future version, it will default to False. In addition, specifying 'numeric_only=None' is deprecated. Select only valid columns or specify the value of numeric_only to silence this warning.\n",
      "  res.mean(axis = 0)\n"
     ]
    },
    {
     "data": {
      "text/plain": [
       "A                           1.255556\n",
       "B                           0.233333\n",
       "C                           0.815556\n",
       "rmse                        0.995889\n",
       "bias                       -0.512333\n",
       "mae                         0.836333\n",
       "pearsonr                    0.246222\n",
       "rmse improvement            0.064667\n",
       "$\\delta rmse / \\delta A$   -0.040222\n",
       "$\\delta rmse / \\delta B$   -0.075778\n",
       "$\\delta rmse / \\delta C$   -0.170333\n",
       "dtype: float64"
      ]
     },
     "execution_count": 14,
     "metadata": {},
     "output_type": "execute_result"
    }
   ],
   "source": [
    "res.mean(axis = 0)"
   ]
  },
  {
   "cell_type": "code",
   "execution_count": 88,
   "metadata": {},
   "outputs": [],
   "source": [
    "res.to_csv('/bsuhome/zacharykeskinen/spicy-analysis/results/params/param_site_summary.csv')"
   ]
  }
 ],
 "metadata": {
  "kernelspec": {
   "display_name": "spicy",
   "language": "python",
   "name": "python3"
  },
  "language_info": {
   "codemirror_mode": {
    "name": "ipython",
    "version": 3
   },
   "file_extension": ".py",
   "mimetype": "text/x-python",
   "name": "python",
   "nbconvert_exporter": "python",
   "pygments_lexer": "ipython3",
   "version": "3.1.0"
  },
  "orig_nbformat": 4
 },
 "nbformat": 4,
 "nbformat_minor": 2
}
