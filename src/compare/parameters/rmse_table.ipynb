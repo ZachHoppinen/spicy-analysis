{
 "cells": [
  {
   "cell_type": "code",
   "execution_count": 1,
   "metadata": {},
   "outputs": [],
   "source": [
    "from pathlib import Path\n",
    "\n",
    "import numpy as np\n",
    "import pandas as pd\n",
    "import xarray as xr\n",
    "\n",
    "import matplotlib.pyplot as plt\n",
    "\n",
    "from scipy.stats import pearsonr\n",
    "from sklearn.metrics import mean_squared_error, mean_absolute_error\n",
    "\n",
    "def bias(x, y): return np.mean(x - y)\n",
    "\n",
    "from spicy_snow.retrieval import retrieval_from_parameters"
   ]
  },
  {
   "cell_type": "code",
   "execution_count": 11,
   "metadata": {},
   "outputs": [],
   "source": [
    "lievens_params = [2, 0.5, 0.44]\n",
    "wus_params = [2.5, 0.2, 0.55]\n",
    "\n",
    "in_dir = Path('~/spicy-snow/SnowEx-Data/').expanduser().resolve()\n",
    "data_dir = Path('~/scratch/spicy/SnowEx-Data/').expanduser().resolve()\n",
    "\n",
    "# Create parameter space\n",
    "A = np.round(np.arange(1, 3.1, 0.1), 2)\n",
    "B = np.round(np.arange(0, 2.01, 0.1), 2)\n",
    "C = np.round(np.arange(0, 1.001, 0.01), 2)\n",
    "\n",
    "def get_stats(x, y):\n",
    "    if type(x) == xr.DataArray: x = x.values.ravel()\n",
    "    if type(y) == xr.DataArray: y = y.values.ravel()\n",
    "    idx = (~np.isnan(x)) & (~np.isnan(y))\n",
    "    x, y = x[idx], y[idx]\n",
    "    r, p = pearsonr(x, y)\n",
    "    b = bias(x, y)\n",
    "    mae = mean_absolute_error(x, y)\n",
    "    rmse = mean_squared_error(x, y, squared = False)\n",
    "    return r, b, mae, rmse"
   ]
  },
  {
   "cell_type": "code",
   "execution_count": null,
   "metadata": {},
   "outputs": [],
   "source": []
  },
  {
   "cell_type": "code",
   "execution_count": 7,
   "metadata": {},
   "outputs": [],
   "source": [
    "res = pd.DataFrame()\n",
    "\n",
    "for fp in in_dir.glob('*.nc'):\n",
    "    ds = xr.open_dataset(fp)\n",
    "\n",
    "    if fp.stem == 'Frasier_2020-02-11':\n",
    "        r, b, mae, rmse = get_stats(ds['lidar-sd'], ds['snow_depth'].sel(time = '2020-02-16'))\n",
    "        im_date = pd.to_datetime('2020-02-16')\n",
    "    else:\n",
    "        r, b, mae, rmse = get_stats(ds['lidar-sd'], ds['snow_depth'].sel(time = ds.attrs['lidar-flight-time'], method = 'nearest'))\n",
    "        im_date = pd.to_datetime(ds.sel(time = ds.attrs['lidar-flight-time'], method = 'nearest').time.values.ravel()[0])\n",
    "    d_days = im_date - pd.to_datetime(ds.attrs['lidar-flight-time'])\n",
    "\n",
    "    site_name = fp.stem.replace('_', ' ')\n",
    "    for name, var in zip(['RMSE', 'bias', 'MAE', 'Pearson R'], [rmse, b, mae, r]):\n",
    "        res.loc[site_name, name] = var\n",
    "\n",
    "    new_ds = retrieval_from_parameters(xr.open_dataset(data_dir.joinpath(fp.name)), A = lievens_params[0], B = lievens_params[1], C = lievens_params[2])\n",
    "\n",
    "    o_r, o_b, o_mae, o_rmse = get_stats(new_ds['lidar-sd'], new_ds['snow_depth'].sel(time = im_date, method = 'nearest'))\n",
    "\n",
    "    res.loc[site_name, '△ rmse'] = rmse - o_rmse"
   ]
  },
  {
   "cell_type": "code",
   "execution_count": 9,
   "metadata": {},
   "outputs": [
    {
     "data": {
      "text/plain": [
       "1.133012564454194"
      ]
     },
     "execution_count": 9,
     "metadata": {},
     "output_type": "execute_result"
    }
   ],
   "source": [
    "o_rmse"
   ]
  },
  {
   "cell_type": "code",
   "execution_count": 10,
   "metadata": {},
   "outputs": [
    {
     "data": {
      "text/plain": [
       "1.0980119588745152"
      ]
     },
     "execution_count": 10,
     "metadata": {},
     "output_type": "execute_result"
    }
   ],
   "source": [
    "rmse"
   ]
  },
  {
   "cell_type": "code",
   "execution_count": 8,
   "metadata": {},
   "outputs": [
    {
     "data": {
      "text/html": [
       "<div>\n",
       "<style scoped>\n",
       "    .dataframe tbody tr th:only-of-type {\n",
       "        vertical-align: middle;\n",
       "    }\n",
       "\n",
       "    .dataframe tbody tr th {\n",
       "        vertical-align: top;\n",
       "    }\n",
       "\n",
       "    .dataframe thead th {\n",
       "        text-align: right;\n",
       "    }\n",
       "</style>\n",
       "<table border=\"1\" class=\"dataframe\">\n",
       "  <thead>\n",
       "    <tr style=\"text-align: right;\">\n",
       "      <th></th>\n",
       "      <th>RMSE</th>\n",
       "      <th>bias</th>\n",
       "      <th>MAE</th>\n",
       "      <th>Pearson R</th>\n",
       "      <th>△ rmse</th>\n",
       "    </tr>\n",
       "  </thead>\n",
       "  <tbody>\n",
       "    <tr>\n",
       "      <th>Mores 2020-02-09</th>\n",
       "      <td>1.118619</td>\n",
       "      <td>0.169999</td>\n",
       "      <td>0.933682</td>\n",
       "      <td>0.028640</td>\n",
       "      <td>0.052566</td>\n",
       "    </tr>\n",
       "    <tr>\n",
       "      <th>Frasier 2021-03-19</th>\n",
       "      <td>0.723593</td>\n",
       "      <td>0.217063</td>\n",
       "      <td>0.580364</td>\n",
       "      <td>0.112713</td>\n",
       "      <td>0.084840</td>\n",
       "    </tr>\n",
       "    <tr>\n",
       "      <th>Dry Creek 2020-02-19</th>\n",
       "      <td>0.851786</td>\n",
       "      <td>-0.099454</td>\n",
       "      <td>0.644916</td>\n",
       "      <td>0.155150</td>\n",
       "      <td>0.188747</td>\n",
       "    </tr>\n",
       "    <tr>\n",
       "      <th>Banner 2021-03-15</th>\n",
       "      <td>1.370068</td>\n",
       "      <td>-0.541134</td>\n",
       "      <td>1.003033</td>\n",
       "      <td>0.309225</td>\n",
       "      <td>0.510551</td>\n",
       "    </tr>\n",
       "    <tr>\n",
       "      <th>Little Cottonwood 2021-03-18</th>\n",
       "      <td>1.479392</td>\n",
       "      <td>-0.319309</td>\n",
       "      <td>1.154803</td>\n",
       "      <td>0.314687</td>\n",
       "      <td>0.290218</td>\n",
       "    </tr>\n",
       "    <tr>\n",
       "      <th>Mores 2021-03-15</th>\n",
       "      <td>1.133725</td>\n",
       "      <td>-0.060238</td>\n",
       "      <td>0.903184</td>\n",
       "      <td>0.355782</td>\n",
       "      <td>0.209520</td>\n",
       "    </tr>\n",
       "    <tr>\n",
       "      <th>Banner 2020-02-18</th>\n",
       "      <td>0.998748</td>\n",
       "      <td>0.324339</td>\n",
       "      <td>0.832388</td>\n",
       "      <td>0.289871</td>\n",
       "      <td>0.033294</td>\n",
       "    </tr>\n",
       "    <tr>\n",
       "      <th>Frasier 2020-02-11</th>\n",
       "      <td>0.950128</td>\n",
       "      <td>0.650994</td>\n",
       "      <td>0.831223</td>\n",
       "      <td>0.246458</td>\n",
       "      <td>0.006630</td>\n",
       "    </tr>\n",
       "    <tr>\n",
       "      <th>Cameron 2021-03-19</th>\n",
       "      <td>1.098012</td>\n",
       "      <td>0.642722</td>\n",
       "      <td>0.936709</td>\n",
       "      <td>0.056289</td>\n",
       "      <td>-0.035001</td>\n",
       "    </tr>\n",
       "  </tbody>\n",
       "</table>\n",
       "</div>"
      ],
      "text/plain": [
       "                                  RMSE      bias       MAE  Pearson R  \\\n",
       "Mores 2020-02-09              1.118619  0.169999  0.933682   0.028640   \n",
       "Frasier 2021-03-19            0.723593  0.217063  0.580364   0.112713   \n",
       "Dry Creek 2020-02-19          0.851786 -0.099454  0.644916   0.155150   \n",
       "Banner 2021-03-15             1.370068 -0.541134  1.003033   0.309225   \n",
       "Little Cottonwood 2021-03-18  1.479392 -0.319309  1.154803   0.314687   \n",
       "Mores 2021-03-15              1.133725 -0.060238  0.903184   0.355782   \n",
       "Banner 2020-02-18             0.998748  0.324339  0.832388   0.289871   \n",
       "Frasier 2020-02-11            0.950128  0.650994  0.831223   0.246458   \n",
       "Cameron 2021-03-19            1.098012  0.642722  0.936709   0.056289   \n",
       "\n",
       "                                △ rmse  \n",
       "Mores 2020-02-09              0.052566  \n",
       "Frasier 2021-03-19            0.084840  \n",
       "Dry Creek 2020-02-19          0.188747  \n",
       "Banner 2021-03-15             0.510551  \n",
       "Little Cottonwood 2021-03-18  0.290218  \n",
       "Mores 2021-03-15              0.209520  \n",
       "Banner 2020-02-18             0.033294  \n",
       "Frasier 2020-02-11            0.006630  \n",
       "Cameron 2021-03-19           -0.035001  "
      ]
     },
     "execution_count": 8,
     "metadata": {},
     "output_type": "execute_result"
    }
   ],
   "source": [
    "res"
   ]
  }
 ],
 "metadata": {
  "kernelspec": {
   "display_name": "spicy",
   "language": "python",
   "name": "python3"
  },
  "language_info": {
   "codemirror_mode": {
    "name": "ipython",
    "version": 3
   },
   "file_extension": ".py",
   "mimetype": "text/x-python",
   "name": "python",
   "nbconvert_exporter": "python",
   "pygments_lexer": "ipython3",
   "version": "3.11.0"
  },
  "orig_nbformat": 4
 },
 "nbformat": 4,
 "nbformat_minor": 2
}
