{
 "cells": [
  {
   "cell_type": "code",
   "execution_count": 1,
   "metadata": {},
   "outputs": [
    {
     "name": "stderr",
     "output_type": "stream",
     "text": [
      "/bsuhome/zacharykeskinen/miniconda3/envs/spicy/lib/python3.11/site-packages/tqdm/auto.py:21: TqdmWarning: IProgress not found. Please update jupyter and ipywidgets. See https://ipywidgets.readthedocs.io/en/stable/user_install.html\n",
      "  from .autonotebook import tqdm as notebook_tqdm\n"
     ]
    }
   ],
   "source": [
    "import numpy as np\n",
    "import pandas as pd\n",
    "import xarray as xr\n",
    "\n",
    "from pathlib import Path\n",
    "\n",
    "from itertools import product\n",
    "from tqdm.contrib.itertools import product\n",
    "\n",
    "import warnings"
   ]
  },
  {
   "cell_type": "code",
   "execution_count": 2,
   "metadata": {},
   "outputs": [],
   "source": [
    "from scipy.stats import pearsonr\n",
    "from sklearn.metrics import mean_squared_error, mean_absolute_error\n",
    "\n",
    "def get_bias(x, y): return np.mean(x - y)\n",
    "\n",
    "def get_stats(x, y):\n",
    "    if type(x) == xr.DataArray: x = x.values.ravel()\n",
    "    if type(y) == xr.DataArray: y = y.values.ravel()\n",
    "    idx = (~np.isnan(x)) & (~np.isnan(y))\n",
    "    x, y = x[idx], y[idx]\n",
    "    with warnings.catch_warnings():\n",
    "        warnings.filterwarnings(\"ignore\", message=\"An input array is constant\")\n",
    "        r, p = pearsonr(x, y)\n",
    "    b = get_bias(x, y)\n",
    "    mae = mean_absolute_error(x, y)\n",
    "    rmse = mean_squared_error(x, y, squared = False)\n",
    "    return r, b, mae, rmse"
   ]
  },
  {
   "cell_type": "code",
   "execution_count": 3,
   "metadata": {},
   "outputs": [],
   "source": [
    "npy_dirs = Path('/bsuhome/zacharykeskinen/scratch/spicy/param_npys')"
   ]
  },
  {
   "cell_type": "code",
   "execution_count": 4,
   "metadata": {},
   "outputs": [],
   "source": [
    "sds = [np.load(Path(fp).joinpath('lidar.npy')) for fp in npy_dirs.glob('*_*-*-*')]\n",
    "sds = np.concatenate(sds)"
   ]
  },
  {
   "cell_type": "code",
   "execution_count": 5,
   "metadata": {},
   "outputs": [],
   "source": [
    "# Create parameter space\n",
    "A = np.round(np.arange(1, 3.1, 0.1), 2)\n",
    "B = np.round(np.arange(0, 2.01, 0.1), 2)\n",
    "C = np.round(np.arange(0, 1.001, 0.01), 2)\n",
    "locs = [fp.stem for fp in npy_dirs.glob('*_*-*-*') if (fp.is_dir())]"
   ]
  },
  {
   "cell_type": "code",
   "execution_count": 6,
   "metadata": {},
   "outputs": [],
   "source": [
    "da = xr.DataArray(np.zeros((len(A), len(B), len(C))) , coords = [A, B, C], dims = ['A', 'B', 'C'], name = 'pearsonr')\n",
    "res = xr.merge([da, da.copy().rename('mae'), da.copy().rename('rmse'), da.copy().rename('bias')])"
   ]
  },
  {
   "cell_type": "code",
   "execution_count": 73,
   "metadata": {},
   "outputs": [
    {
     "name": "stderr",
     "output_type": "stream",
     "text": [
      "  1%|          | 264/44541 [00:05<56:42, 13.01it/s] "
     ]
    }
   ],
   "source": [
    "loc_dirs = list(npy_dirs.glob('*_*-*-*'))\n",
    "for a, b, c in product(A, B, C):\n",
    "    spicy = [np.load(fp.joinpath(f'{a}_{b}_{c}.npy')) for fp in loc_dirs]\n",
    "    spicy = np.concatenate(spicy)\n",
    "    r, bias, mae, rmse = get_stats(sds, spicy)\n",
    "    for name, var in zip(['pearsonr', 'mae', 'rmse', 'bias'], [r, mae, rmse, bias]):\n",
    "        res[name].loc[dict(A = a, B = b, C = c)] = var"
   ]
  },
  {
   "cell_type": "code",
   "execution_count": 8,
   "metadata": {},
   "outputs": [],
   "source": [
    "res.to_netcdf(npy_dirs.joinpath('grouped.nc'))"
   ]
  }
 ],
 "metadata": {
  "kernelspec": {
   "display_name": "spicy",
   "language": "python",
   "name": "python3"
  },
  "language_info": {
   "codemirror_mode": {
    "name": "ipython",
    "version": 3
   },
   "file_extension": ".py",
   "mimetype": "text/x-python",
   "name": "python",
   "nbconvert_exporter": "python",
   "pygments_lexer": "ipython3",
   "version": "3.11.0"
  },
  "orig_nbformat": 4
 },
 "nbformat": 4,
 "nbformat_minor": 2
}
