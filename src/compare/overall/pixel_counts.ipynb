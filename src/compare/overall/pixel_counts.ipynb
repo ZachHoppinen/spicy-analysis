{
 "cells": [
  {
   "cell_type": "code",
   "execution_count": 1,
   "metadata": {},
   "outputs": [],
   "source": [
    "from pathlib import Path\n",
    "\n",
    "import numpy as np\n",
    "import pandas as pd\n",
    "import xarray as xr\n",
    "\n",
    "import matplotlib as mpl\n",
    "import matplotlib.pyplot as plt\n",
    "from mpl_toolkits.axes_grid1 import make_axes_locatable\n",
    "import seaborn as sns\n",
    "\n",
    "from scipy.stats import pearsonr\n",
    "from sklearn.metrics import mean_squared_error, mean_absolute_error\n",
    "\n",
    "from spicy_snow.retrieval import retrieval_from_parameters"
   ]
  },
  {
   "cell_type": "code",
   "execution_count": 2,
   "metadata": {},
   "outputs": [],
   "source": [
    "in_dir = Path('~/scratch/spicy/SnowEx-Data/').expanduser().resolve()\n",
    "in_dir = Path('/Users/rdcrlzh1/Documents/spicy-analysis/data/SnowEx-Data')\n",
    "# in_dir = Path('~/spicy-snow/SnowEx-Data-Hans/').expanduser().resolve()\n",
    "\n",
    "dss = {fp.stem: xr.open_dataset(fp) for fp in in_dir.glob('*.nc')}"
   ]
  },
  {
   "cell_type": "code",
   "execution_count": 32,
   "metadata": {},
   "outputs": [],
   "source": [
    "res = pd.DataFrame()\n",
    "all_pixels = 0\n",
    "all_dry_pixel = 0\n",
    "for stem, ds in dss.items():\n",
    "    if stem == 'Frasier_2020-02-11':\n",
    "        im_date = pd.to_datetime('2020-02-16')\n",
    "    else:\n",
    "        im_date = pd.to_datetime(ds.sel(time = ds.attrs['lidar-flight-time'], method = 'nearest').time.values.ravel()[0])\n",
    "    site_name = stem.replace('_', ' ').split('-')[0].replace('Little Cottonwood', 'LCC').replace('Frasier', 'Fraser')\n",
    "\n",
    "    x, y = ds['snow_depth'].sel(time = im_date, method = 'nearest'), ds['lidar-sd']\n",
    "    pxl_cnt = (~np.isnan(x)) & (~np.isnan(y))\n",
    "\n",
    "    x, y = ds['snow_depth'].sel(time = im_date, method = 'nearest'), ds['lidar-sd']\n",
    "    x = x.where(ds['wet_snow'].sel(time = im_date, method = 'nearest') == 0)\n",
    "    dry_pxl_cnt = (~np.isnan(x)) & (~np.isnan(y))\n",
    "\n",
    "    res.loc[site_name, 'valid_pixels'] = pxl_cnt.sum().data.ravel()[0]\n",
    "    res.loc[site_name, 'valid_dry_pixels'] = dry_pxl_cnt.sum().data.ravel()[0]\n",
    "res.loc['all', ['valid_pixels', 'valid_dry_pixels']] = res.sum(axis = 0).values"
   ]
  },
  {
   "cell_type": "code",
   "execution_count": 33,
   "metadata": {},
   "outputs": [
    {
     "data": {
      "text/html": [
       "<div>\n",
       "<style scoped>\n",
       "    .dataframe tbody tr th:only-of-type {\n",
       "        vertical-align: middle;\n",
       "    }\n",
       "\n",
       "    .dataframe tbody tr th {\n",
       "        vertical-align: top;\n",
       "    }\n",
       "\n",
       "    .dataframe thead th {\n",
       "        text-align: right;\n",
       "    }\n",
       "</style>\n",
       "<table border=\"1\" class=\"dataframe\">\n",
       "  <thead>\n",
       "    <tr style=\"text-align: right;\">\n",
       "      <th></th>\n",
       "      <th>valid_pixels</th>\n",
       "      <th>valid_dry_pixels</th>\n",
       "    </tr>\n",
       "  </thead>\n",
       "  <tbody>\n",
       "    <tr>\n",
       "      <th>Mores 2021</th>\n",
       "      <td>3813.0</td>\n",
       "      <td>581.0</td>\n",
       "    </tr>\n",
       "    <tr>\n",
       "      <th>Fraser 2021</th>\n",
       "      <td>6787.0</td>\n",
       "      <td>211.0</td>\n",
       "    </tr>\n",
       "    <tr>\n",
       "      <th>Dry Creek 2020</th>\n",
       "      <td>3792.0</td>\n",
       "      <td>1001.0</td>\n",
       "    </tr>\n",
       "    <tr>\n",
       "      <th>Banner 2021</th>\n",
       "      <td>16692.0</td>\n",
       "      <td>2531.0</td>\n",
       "    </tr>\n",
       "    <tr>\n",
       "      <th>Cameron 2021</th>\n",
       "      <td>2378.0</td>\n",
       "      <td>170.0</td>\n",
       "    </tr>\n",
       "    <tr>\n",
       "      <th>Banner 2020</th>\n",
       "      <td>16415.0</td>\n",
       "      <td>2571.0</td>\n",
       "    </tr>\n",
       "    <tr>\n",
       "      <th>Mores 2020</th>\n",
       "      <td>3694.0</td>\n",
       "      <td>1530.0</td>\n",
       "    </tr>\n",
       "    <tr>\n",
       "      <th>LCC 2021</th>\n",
       "      <td>2827.0</td>\n",
       "      <td>1045.0</td>\n",
       "    </tr>\n",
       "    <tr>\n",
       "      <th>Fraser 2020</th>\n",
       "      <td>3847.0</td>\n",
       "      <td>184.0</td>\n",
       "    </tr>\n",
       "    <tr>\n",
       "      <th>all</th>\n",
       "      <td>60245.0</td>\n",
       "      <td>9824.0</td>\n",
       "    </tr>\n",
       "  </tbody>\n",
       "</table>\n",
       "</div>"
      ],
      "text/plain": [
       "                valid_pixels  valid_dry_pixels\n",
       "Mores 2021            3813.0             581.0\n",
       "Fraser 2021           6787.0             211.0\n",
       "Dry Creek 2020        3792.0            1001.0\n",
       "Banner 2021          16692.0            2531.0\n",
       "Cameron 2021          2378.0             170.0\n",
       "Banner 2020          16415.0            2571.0\n",
       "Mores 2020            3694.0            1530.0\n",
       "LCC 2021              2827.0            1045.0\n",
       "Fraser 2020           3847.0             184.0\n",
       "all                  60245.0            9824.0"
      ]
     },
     "execution_count": 33,
     "metadata": {},
     "output_type": "execute_result"
    }
   ],
   "source": [
    "res"
   ]
  }
 ],
 "metadata": {
  "kernelspec": {
   "display_name": "spicy_analysis",
   "language": "python",
   "name": "python3"
  },
  "language_info": {
   "codemirror_mode": {
    "name": "ipython",
    "version": 3
   },
   "file_extension": ".py",
   "mimetype": "text/x-python",
   "name": "python",
   "nbconvert_exporter": "python",
   "pygments_lexer": "ipython3",
   "version": "3.11.6"
  }
 },
 "nbformat": 4,
 "nbformat_minor": 2
}
