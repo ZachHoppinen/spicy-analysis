{
 "cells": [
  {
   "cell_type": "code",
   "execution_count": 39,
   "metadata": {},
   "outputs": [],
   "source": [
    "import numpy as np\n",
    "import pandas as pd\n",
    "import xarray as xr\n",
    "from rasterio.enums import Resampling\n",
    "\n",
    "from pathlib import Path\n",
    "\n",
    "import matplotlib as mpl\n",
    "import matplotlib.pyplot as plt\n",
    "from matplotlib.gridspec import GridSpec"
   ]
  },
  {
   "cell_type": "code",
   "execution_count": 40,
   "metadata": {},
   "outputs": [],
   "source": [
    "from scipy.stats import pearsonr\n",
    "from sklearn.metrics import mean_squared_error, mean_absolute_error\n",
    "\n",
    "def bias(x, y): return np.mean(x - y)\n",
    "\n",
    "def get_stats(x, y):\n",
    "    if type(x) == xr.DataArray: x = x.values.ravel()\n",
    "    if type(y) == xr.DataArray: y = y.values.ravel()\n",
    "    if type(x) == list: x = np.array(x)\n",
    "    if type(y) == list: y = np.array(y)\n",
    "    idx = (~np.isnan(x)) & (~np.isnan(y))\n",
    "    x, y = x[idx], y[idx]\n",
    "    r, p = pearsonr(x, y)\n",
    "    b = bias(x, y)\n",
    "    mae = mean_absolute_error(x, y)\n",
    "    rmse = mean_squared_error(x, y, squared = False)\n",
    "    return r, b, mae, rmse"
   ]
  },
  {
   "cell_type": "code",
   "execution_count": 47,
   "metadata": {},
   "outputs": [],
   "source": [
    "in_dir = Path('~/scratch/spicy/SnowEx-Data/').expanduser().resolve()\n",
    "in_dir = Path('~/spicy-snow/SnowEx-Data-Hans/').expanduser().resolve()\n",
    "\n",
    "out_dir = Path('~/scratch/spicy/SnowEx-Hans-s1').expanduser()\n",
    "\n",
    "dss = {fp.stem: xr.open_dataset(fp) for fp in in_dir.glob('*.nc')}\n",
    "\n",
    "data_dir = Path('~/scratch/West_US_Canada').expanduser()\n",
    "assert data_dir.exists()\n",
    "fps = list(data_dir.glob('*.nc'))"
   ]
  },
  {
   "cell_type": "code",
   "execution_count": 49,
   "metadata": {},
   "outputs": [
    {
     "ename": "",
     "evalue": "",
     "output_type": "error",
     "traceback": [
      "\u001b[1;31mThe Kernel crashed while executing code in the the current cell or a previous cell. Please review the code in the cell(s) to identify a possible cause of the failure. Click <a href='https://aka.ms/vscodeJupyterKernelCrash'>here</a> for more info. View Jupyter <a href='command:jupyter.viewOutput'>log</a> for further details."
     ]
    }
   ],
   "source": [
    "for stem, old_ds in dss.items():\n",
    "    new_dss = []\n",
    "    for fp in fps:\n",
    "        dt = pd.to_datetime(fp.stem.split('_')[1])\n",
    "        if dt > pd.to_datetime('2020-08-01') and dt < pd.to_datetime('2021-04-01'):\n",
    "            ds = xr.open_dataset(fp)['snd']\n",
    "            ds = ds.expand_dims(time = [dt])\n",
    "            ds = ds.sel(lat = slice(old_ds.y.max(), old_ds.y.min()), lon = slice(old_ds.x.min(), old_ds.x.max()))\n",
    "            new_dss.append(ds)\n",
    "\n",
    "    full = xr.concat(new_dss, dim = 'time')\n",
    "    full = full.dropna(dim ='time', how ='all').sortby('time')\n",
    "    full = full.rename({'lat':'y'})\n",
    "    full = full.rename({'lon':'x'})\n",
    "\n",
    "    full.to_netcdf(out_dir.joinpath(stem+'.nc'))"
   ]
  },
  {
   "cell_type": "code",
   "execution_count": 5,
   "metadata": {},
   "outputs": [],
   "source": [
    "b_21 = xr.open_dataset('~/spicy-snow/SnowEx-Data-Hans/Banner_2021-03-15.nc')['snow_depth'].transpose('time', 'y', 'x').rio.write_crs('EPSG:4326').drop('relative_orbit')\n",
    "b_20 = xr.open_dataset('~/spicy-snow/SnowEx-Data-Hans/Banner_2020-02-18.nc')['snow_depth'].transpose('time', 'y', 'x').rio.write_crs('EPSG:4326').drop('relative_orbit')\n",
    "b_20 = b_20.rio.reproject_match(b_21)\n",
    "b = xr.concat([b_20, b_21], dim ='time')\n",
    "\n",
    "banner_hans = xr.open_dataarray(data_dir.joinpath('combo.nc')).dropna(dim ='time', how ='all').sortby('time')\n",
    "banner_hans = banner_hans.rename({'lat':'y'})\n",
    "banner_hans = banner_hans.rename({'lon':'x'})\n",
    "\n",
    "banner_hans= banner_hans.rio.write_crs('EPSG:4326')\n",
    "banner_hans = banner_hans.rio.write_nodata(np.nan)\n",
    "b = b.rio.write_crs('EPSG:4326')\n",
    "b = b.rio.write_nodata(np.nan)\n",
    "b= b.interpolate_na('x', limit = 10)\n",
    "b= b.sortby('y').interpolate_na('y', limit=10)\n",
    "b = b.interp_like(banner_hans, method = 'linear') # .interpolate_na('x', method = 'nearest').sortby('y').interpolate_na('y', method = 'nearest')\n",
    "\n",
    "mg = xr.merge([b, banner_hans])"
   ]
  }
 ],
 "metadata": {
  "kernelspec": {
   "display_name": "spicy",
   "language": "python",
   "name": "python3"
  },
  "language_info": {
   "codemirror_mode": {
    "name": "ipython",
    "version": 3
   },
   "file_extension": ".py",
   "mimetype": "text/x-python",
   "name": "python",
   "nbconvert_exporter": "python",
   "pygments_lexer": "ipython3",
   "version": "3.11.0"
  }
 },
 "nbformat": 4,
 "nbformat_minor": 2
}
